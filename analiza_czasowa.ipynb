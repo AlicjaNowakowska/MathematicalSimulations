{
 "cells": [
  {
   "cell_type": "code",
   "execution_count": 1,
   "metadata": {},
   "outputs": [],
   "source": [
    "#GENEROWANIE ZMIENNEJ Z ROZKŁADU PRZYBLIŻONEGO\n",
    "#WYKRES ROZKŁADU PRZYBLIŻONEGO ORAZ HISTOGRAM , GDY GENERUJEMY ZMIENNĄ\n",
    "#Z ROZKŁADU PRZYBLIŻONEGO ZA POMOCĄ METODY AKCEPTACJI-ODRZUCENIA\n",
    "import numpy as np\n",
    "import scipy.optimize as opt\n",
    "import matplotlib.pyplot as plt\n",
    "import random as rn\n",
    "import math\n",
    "import matplotlib.lines as mlines\n",
    "from scipy import integrate\n",
    "from scipy import optimize as opt\n",
    "import time"
   ]
  },
  {
   "cell_type": "code",
   "execution_count": 2,
   "metadata": {},
   "outputs": [],
   "source": [
    "global N\n",
    "global a\n",
    "global b\n",
    "a=0\n",
    "b=math.pi\n",
    "N=100"
   ]
  },
  {
   "cell_type": "code",
   "execution_count": 3,
   "metadata": {},
   "outputs": [],
   "source": [
    "def gestosc(x):\n",
    "    return 1.5*np.sin(x)*np.cos(x)*np.cos(x)"
   ]
  },
  {
   "cell_type": "code",
   "execution_count": 4,
   "metadata": {},
   "outputs": [],
   "source": [
    "def przyblizenie(x): #gestosc ktorą pryzblizamy gestosc rzeczywsita\n",
    "    k=x%((b-a)/N)\n",
    "    if k==0:\n",
    "        return gestosc(x)\n",
    "    else:\n",
    "        k=math.floor(x/((b-a)/N))\n",
    "        return gestosc(k*((b-a)/N))"
   ]
  },
  {
   "cell_type": "code",
   "execution_count": 5,
   "metadata": {},
   "outputs": [],
   "source": [
    "def losowanie_zmiennej(): #funkcja do losowania zmeinnej pryzbliżónej\n",
    "    \n",
    "    wysokosci=[]\n",
    "    for k in range(0,N):\n",
    "        wysokosci.append(przyblizenie(k*(b-a)/N))\n",
    "    suma=sum(wysokosci)\n",
    "    prawd=[]\n",
    "    for k in range(0,N):\n",
    "        prawd.append(wysokosci[k]/suma)\n",
    "\n",
    "    przedzialy=[]\n",
    "    przedzialy=np.cumsum(prawd)\n",
    "\n",
    "    #przedzialy=przedzialy.tolist()\n",
    "\n",
    "    U=rn.uniform(0,1)\n",
    "\n",
    "    k=0\n",
    "    for i in range(0,len(przedzialy)):\n",
    "        if przedzialy[i]<U:\n",
    "            pass\n",
    "        else:\n",
    "            k=i\n",
    "            break\n",
    "        \n",
    "    X=rn.uniform((b-a)*k/N,(b-a)*(k+1)/N)\n",
    "    return X"
   ]
  },
  {
   "cell_type": "code",
   "execution_count": 6,
   "metadata": {},
   "outputs": [],
   "source": [
    "def proba_przyb(n): #proba rozkładu przybliżonego\n",
    "    proba=[]\n",
    "    for i in range(0,n):\n",
    "        proba.append(losowanie_zmiennej())\n",
    "    return proba"
   ]
  },
  {
   "cell_type": "code",
   "execution_count": 7,
   "metadata": {},
   "outputs": [],
   "source": [
    "def h(x): #szukamy odpowiedniego C\n",
    "    return gestosc(x)/przyblizenie(x)"
   ]
  },
  {
   "cell_type": "code",
   "execution_count": 8,
   "metadata": {},
   "outputs": [
    {
     "name": "stdout",
     "output_type": "stream",
     "text": [
      "1.0625721314097685\n"
     ]
    }
   ],
   "source": [
    "N=60\n",
    "m = opt.fminbound(lambda x: -h(x), 0, math.pi)\n",
    "C=h(m) #supremum\n",
    "global C\n",
    "print(C)"
   ]
  },
  {
   "cell_type": "code",
   "execution_count": 9,
   "metadata": {},
   "outputs": [],
   "source": [
    "def generowanie(): #generuje zmienna losowa o gestosci 3/2sinxcos^2\n",
    "    m = C\n",
    "    u1=losowanie_zmiennej() #y from g \n",
    "    u2=rn.random() #u\n",
    "    vfunc=np.vectorize(gestosc)\n",
    "    z=vfunc(u1)\n",
    "    z=gestosc(u1)/(m*przyblizenie(u1))\n",
    "    #print(u2,'u2','z',z)\n",
    "    if u2<z: #u<f(y)/(c *g(y)) http://www.di.fc.ul.pt/~jpn/r/ECS/index.html !!!!!!!!\n",
    "        return u1\n",
    "    else:\n",
    "        return generowanie()"
   ]
  },
  {
   "cell_type": "code",
   "execution_count": 10,
   "metadata": {},
   "outputs": [],
   "source": [
    "def proba_rozkladu_dokladnego_za_pomoca_przyb(n):\n",
    "    proba=[]\n",
    "    for i in range(0,n):\n",
    "        proba.append(generowanie())\n",
    "    return proba"
   ]
  },
  {
   "cell_type": "code",
   "execution_count": 11,
   "metadata": {},
   "outputs": [],
   "source": [
    "def zad10zmienna_losowa(f,a,b): #generuje zmienna losowa o zadanej gestosci->standordowa metoda akceptacji odrzucenia\n",
    "    \n",
    "    m = opt.fminbound(lambda x: -f(x), a, b)\n",
    "    m=f(m)\n",
    "    u1=rn.uniform(a,b)\n",
    "    u2=m*rn.random()\n",
    "    #print('m',m)\n",
    "    vfunc=np.vectorize(f)\n",
    "    z=vfunc(u1)\n",
    "    z=f(u1)\n",
    "    #print('u2',u2,'z',z)\n",
    "    if u2<z:\n",
    "        return u1\n",
    "    else:\n",
    "        return zad10zmienna_losowa(f,a,b)"
   ]
  },
  {
   "cell_type": "code",
   "execution_count": 12,
   "metadata": {},
   "outputs": [],
   "source": [
    "def generuj_standardowo(n,f,a,b): #generuje probke danych zmiennej losowej\n",
    "    probka=[]\n",
    "    for i in range(0,n):\n",
    "        probka.append(zad10zmienna_losowa(f,a,b))\n",
    "    return probka"
   ]
  },
  {
   "cell_type": "code",
   "execution_count": 13,
   "metadata": {},
   "outputs": [],
   "source": [
    "d=[100,500,1000,2000,3000,4000,5000,6000,7000,8000,9000,10000]"
   ]
  },
  {
   "cell_type": "code",
   "execution_count": 15,
   "metadata": {},
   "outputs": [],
   "source": [
    "czas30=[]\n",
    "czas60=[]\n",
    "czas100=[]\n",
    "czas200=[]\n",
    "czasstan=[]"
   ]
  },
  {
   "cell_type": "code",
   "execution_count": 17,
   "metadata": {},
   "outputs": [],
   "source": [
    "for i in d:\n",
    "    start=time.time()\n",
    "    f=generuj_standardowo(i,gestosc,a,b)\n",
    "    end=time.time()\n",
    "    czasstan.append(end-start)"
   ]
  },
  {
   "cell_type": "code",
   "execution_count": 22,
   "metadata": {},
   "outputs": [
    {
     "name": "stdout",
     "output_type": "stream",
     "text": [
      "1.6641093890527996\n"
     ]
    }
   ],
   "source": [
    "N=30\n",
    "m = opt.fminbound(lambda x: -h(x), 0, math.pi)\n",
    "C=h(m) #supremum\n",
    "global C\n",
    "print(C)"
   ]
  },
  {
   "cell_type": "code",
   "execution_count": 23,
   "metadata": {},
   "outputs": [],
   "source": [
    "for i in d:\n",
    "    start=time.time()\n",
    "    p=proba_rozkladu_dokladnego_za_pomoca_przyb(i)\n",
    "    end=time.time()\n",
    "    czas30.append(end-start)"
   ]
  },
  {
   "cell_type": "code",
   "execution_count": 24,
   "metadata": {},
   "outputs": [
    {
     "name": "stdout",
     "output_type": "stream",
     "text": [
      "1.0625721314097685\n"
     ]
    }
   ],
   "source": [
    "N=60\n",
    "m = opt.fminbound(lambda x: -h(x), 0, math.pi)\n",
    "C=h(m) #supremum\n",
    "global C\n",
    "print(C)"
   ]
  },
  {
   "cell_type": "code",
   "execution_count": 25,
   "metadata": {},
   "outputs": [],
   "source": [
    "for i in d:\n",
    "    start=time.time()\n",
    "    p=proba_rozkladu_dokladnego_za_pomoca_przyb(i)\n",
    "    end=time.time()\n",
    "    czas60.append(end-start)"
   ]
  },
  {
   "cell_type": "code",
   "execution_count": 26,
   "metadata": {},
   "outputs": [
    {
     "name": "stdout",
     "output_type": "stream",
     "text": [
      "1.1887273025453935\n"
     ]
    }
   ],
   "source": [
    "N=100\n",
    "m = opt.fminbound(lambda x: -h(x), 0, math.pi)\n",
    "C=h(m) #supremum\n",
    "global C\n",
    "print(C)"
   ]
  },
  {
   "cell_type": "code",
   "execution_count": 27,
   "metadata": {},
   "outputs": [],
   "source": [
    "for i in d:\n",
    "    start=time.time()\n",
    "    p=proba_rozkladu_dokladnego_za_pomoca_przyb(i)\n",
    "    end=time.time()\n",
    "    czas100.append(end-start)"
   ]
  },
  {
   "cell_type": "code",
   "execution_count": 28,
   "metadata": {},
   "outputs": [
    {
     "name": "stdout",
     "output_type": "stream",
     "text": [
      "1.0825950842306302\n"
     ]
    }
   ],
   "source": [
    "N=200\n",
    "m = opt.fminbound(lambda x: -h(x), 0, math.pi)\n",
    "C=h(m) #supremum\n",
    "global C\n",
    "print(C)"
   ]
  },
  {
   "cell_type": "code",
   "execution_count": 29,
   "metadata": {},
   "outputs": [],
   "source": [
    "for i in d:\n",
    "    start=time.time()\n",
    "    p=proba_rozkladu_dokladnego_za_pomoca_przyb(i)\n",
    "    end=time.time()\n",
    "    czas200.append(end-start)"
   ]
  },
  {
   "cell_type": "code",
   "execution_count": 35,
   "metadata": {},
   "outputs": [],
   "source": [
    "czas30=[]"
   ]
  },
  {
   "cell_type": "code",
   "execution_count": 36,
   "metadata": {},
   "outputs": [],
   "source": [
    "for i in d:\n",
    "    start=time.time()\n",
    "    p=proba_rozkladu_dokladnego_za_pomoca_przyb(i)\n",
    "    end=time.time()\n",
    "    czas30.append(end-start)"
   ]
  },
  {
   "cell_type": "code",
   "execution_count": 37,
   "metadata": {},
   "outputs": [
    {
     "data": {
      "text/plain": [
       "Text(0,0.5,'czas')"
      ]
     },
     "execution_count": 37,
     "metadata": {},
     "output_type": "execute_result"
    },
    {
     "data": {
      "image/png": "[encoded data removed]",
      "text/plain": [
       "<matplotlib.figure.Figure at 0x18118ca8da0>"
      ]
     },
     "metadata": {},
     "output_type": "display_data"
    }
   ],
   "source": [
    "plt.plot(d,czasstan,'r')\n",
    "plt.plot(d,czas30,'y')\n",
    "plt.plot(d,czas60,'b')\n",
    "plt.plot(d,czas100,'g')\n",
    "plt.plot(d,czas200,'k')\n",
    "\n",
    "r_line = mlines.Line2D([], [], color='red', \n",
    "                          markersize=7, label='metoda standardowa')\n",
    "b_line = mlines.Line2D([], [], color='blue', \n",
    "                          markersize=7, label='N=60')\n",
    "y_line = mlines.Line2D([], [], color='yellow', \n",
    "                          markersize=7, label='N=30')\n",
    "g_line = mlines.Line2D([], [], color='green', \n",
    "                          markersize=7, label='N=100')\n",
    "k_line = mlines.Line2D([], [], color='black', \n",
    "                          markersize=7, label='N=200')\n",
    "\n",
    "\n",
    "\n",
    "\n",
    "plt.legend(handles=[r_line,y_line,b_line,g_line,k_line],prop={'size':9})\n",
    "plt.xlabel('wielkosc proby')\n",
    "plt.ylabel('czas')\n"
   ]
  },
  {
   "cell_type": "code",
   "execution_count": 38,
   "metadata": {},
   "outputs": [],
   "source": [
    "d=[15000,20000,30000,40000,50000,100000]"
   ]
  },
  {
   "cell_type": "code",
   "execution_count": 39,
   "metadata": {},
   "outputs": [],
   "source": [
    "czas30=[]\n",
    "czas60=[]\n",
    "czas100=[]\n",
    "czas200=[]\n",
    "czasstan=[]"
   ]
  },
  {
   "cell_type": "code",
   "execution_count": 40,
   "metadata": {},
   "outputs": [],
   "source": [
    "for i in d:\n",
    "    start=time.time()\n",
    "    f=generuj_standardowo(i,gestosc,a,b)\n",
    "    end=time.time()\n",
    "    czasstan.append(end-start)"
   ]
  },
  {
   "cell_type": "code",
   "execution_count": 42,
   "metadata": {},
   "outputs": [
    {
     "name": "stdout",
     "output_type": "stream",
     "text": [
      "1.6641093890527996\n"
     ]
    }
   ],
   "source": [
    "N=30\n",
    "m = opt.fminbound(lambda x: -h(x), 0, math.pi)\n",
    "C=h(m) #supremum\n",
    "global C\n",
    "print(C)\n",
    "czas30=[]"
   ]
  },
  {
   "cell_type": "code",
   "execution_count": 43,
   "metadata": {},
   "outputs": [],
   "source": [
    "for i in d:\n",
    "    start=time.time()\n",
    "    p=proba_rozkladu_dokladnego_za_pomoca_przyb(i)\n",
    "    end=time.time()\n",
    "    czas30.append(end-start)"
   ]
  },
  {
   "cell_type": "code",
   "execution_count": 44,
   "metadata": {},
   "outputs": [
    {
     "name": "stdout",
     "output_type": "stream",
     "text": [
      "1.0625721314097685\n"
     ]
    }
   ],
   "source": [
    "N=60\n",
    "m = opt.fminbound(lambda x: -h(x), 0, math.pi)\n",
    "C=h(m) #supremum\n",
    "global C\n",
    "print(C)"
   ]
  },
  {
   "cell_type": "code",
   "execution_count": 45,
   "metadata": {},
   "outputs": [],
   "source": [
    "for i in d:\n",
    "    start=time.time()\n",
    "    p=proba_rozkladu_dokladnego_za_pomoca_przyb(i)\n",
    "    end=time.time()\n",
    "    czas60.append(end-start)"
   ]
  },
  {
   "cell_type": "code",
   "execution_count": 46,
   "metadata": {},
   "outputs": [
    {
     "name": "stdout",
     "output_type": "stream",
     "text": [
      "1.1887273025453935\n"
     ]
    }
   ],
   "source": [
    "N=100\n",
    "m = opt.fminbound(lambda x: -h(x), 0, math.pi)\n",
    "C=h(m) #supremum\n",
    "global C\n",
    "print(C)"
   ]
  },
  {
   "cell_type": "code",
   "execution_count": 47,
   "metadata": {},
   "outputs": [],
   "source": [
    "for i in d:\n",
    "    start=time.time()\n",
    "    p=proba_rozkladu_dokladnego_za_pomoca_przyb(i)\n",
    "    end=time.time()\n",
    "    czas100.append(end-start)"
   ]
  },
  {
   "cell_type": "code",
   "execution_count": 54,
   "metadata": {},
   "outputs": [
    {
     "name": "stdout",
     "output_type": "stream",
     "text": [
      "1.0825950842306302\n"
     ]
    }
   ],
   "source": [
    "N=200\n",
    "m = opt.fminbound(lambda x: -h(x), 0, math.pi)\n",
    "C=h(m) #supremum\n",
    "global C\n",
    "print(C)"
   ]
  },
  {
   "cell_type": "code",
   "execution_count": 55,
   "metadata": {},
   "outputs": [],
   "source": [
    "for i in d:\n",
    "    start=time.time()\n",
    "    p=proba_rozkladu_dokladnego_za_pomoca_przyb(i)\n",
    "    end=time.time()\n",
    "    czas200.append(end-start)"
   ]
  },
  {
   "cell_type": "code",
   "execution_count": null,
   "metadata": {},
   "outputs": [],
   "source": []
  },
  {
   "cell_type": "code",
   "execution_count": 60,
   "metadata": {},
   "outputs": [
    {
     "data": {
      "text/plain": [
       "Text(0,0.5,'czas')"
      ]
     },
     "execution_count": 60,
     "metadata": {},
     "output_type": "execute_result"
    },
    {
     "data": {
      "image/png": "[encoded data removed]",
      "text/plain": [
       "<matplotlib.figure.Figure at 0x1811d1a5a20>"
      ]
     },
     "metadata": {},
     "output_type": "display_data"
    }
   ],
   "source": [
    "plt.plot(d,czasstan,'r')\n",
    "plt.plot(d,czas30,'y')\n",
    "plt.plot(d,czas60,'b')\n",
    "plt.plot(d,czas100,'g')\n",
    "plt.plot(d,czas200,'k')\n",
    "\n",
    "r_line = mlines.Line2D([], [], color='red', \n",
    "                          markersize=7, label='metoda standardowa')\n",
    "b_line = mlines.Line2D([], [], color='blue', \n",
    "                          markersize=7, label='N=60')\n",
    "y_line = mlines.Line2D([], [], color='yellow', \n",
    "                          markersize=7, label='N=30')\n",
    "g_line = mlines.Line2D([], [], color='green', \n",
    "                          markersize=7, label='N=100')\n",
    "k_line = mlines.Line2D([], [], color='black', \n",
    "                          markersize=7, label='N=200')\n",
    "\n",
    "\n",
    "\n",
    "\n",
    "plt.legend(handles=[r_line,y_line,b_line,g_line,k_line],prop={'size':9})\n",
    "plt.xlabel('wielkosc proby')\n",
    "plt.ylabel('czas')"
   ]
  },
  {
   "cell_type": "code",
   "execution_count": null,
   "metadata": {},
   "outputs": [],
   "source": []
  }
 ],
 "metadata": {
  "kernelspec": {
   "display_name": "Python 3",
   "language": "python",
   "name": "python3"
  },
  "language_info": {
   "codemirror_mode": {
    "name": "ipython",
    "version": 3
   },
   "file_extension": ".py",
   "mimetype": "text/x-python",
   "name": "python",
   "nbconvert_exporter": "python",
   "pygments_lexer": "ipython3",
   "version": "3.6.8"
  }
 },
 "nbformat": 4,
 "nbformat_minor": 2
}
