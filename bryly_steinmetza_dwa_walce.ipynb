{
 "cells": [
  {
   "cell_type": "code",
   "execution_count": 2,
   "metadata": {},
   "outputs": [],
   "source": [
    "import random as rn\n",
    "import matplotlib.pyplot as plt\n",
    "import matplotlib.lines as mlines\n",
    "import numpy as np\n",
    "import math"
   ]
  },
  {
   "cell_type": "code",
   "execution_count": 3,
   "metadata": {},
   "outputs": [],
   "source": [
    "def policzenie_calki(n,przedzial,funkcja,N): #metoda monte carlo, n-ile wymiarow, przedział-przedział, po ktorym całkujemy\n",
    "\n",
    "        wynik_sredni=[]\n",
    "    \n",
    "        for i in range(0, N): #N-dokładnosc, ile prób\n",
    "\n",
    "            liczby=[] #liczby z ktorych wywołamy funkcje\n",
    "            iloczyn=[] #to czym trzeba pomnożyć\n",
    "\n",
    "            for i in range(0,len(przedzial),2): #idziemy po poszczegolnych przedziałach\n",
    "                #print('i',i)\n",
    "                p=[przedzial[i],przedzial[i+1]] #przedzial po jakim całkujemy dla i-tego wymiaru\n",
    "                u=rn.uniform(p[0],p[1]) #liczba z tego przedziału, używamy wbudowanego uniform, ponieważ nas dla tak dużych obliczeń działa bardzo wolno\n",
    "                liczby.append(u)\n",
    "            \n",
    "            #print('liczby',liczby,'funkcja(liczby)',funkcja(liczby))\n",
    "            wynik_sredni.append(funkcja(liczby))\n",
    "        \n",
    "\n",
    "        wynik_sredni=sum(wynik_sredni)/N\n",
    "\n",
    "        iloczyn=1\n",
    "\n",
    "        for i in range(0,n,2):\n",
    "            iloczyn=iloczyn*(przedzial[i+1]-przedzial[i])\n",
    "\n",
    "        wynik_sredni=wynik_sredni*iloczyn\n",
    "\n",
    "        return wynik_sredni"
   ]
  },
  {
   "cell_type": "code",
   "execution_count": 4,
   "metadata": {},
   "outputs": [],
   "source": [
    "\n",
    "class bryla_stein2:\n",
    "    \n",
    "    def __init__(self,R):\n",
    "        self.R=R\n",
    "\n",
    "    def funkcja_objetosci(self,a): #funkcja ktora calkujemy zeby uzyskac objetosc bryly steinmetza\n",
    "        return 4*(self.R**2-np.power(a,2)) #=>https://www.youtube.com/watch?v=obZjO8_VIX4\n",
    "\n",
    "    def objetosc(self,N): #16r^3/3\n",
    "        return policzenie_calki(1,[-self.R,self.R],self.funkcja_objetosci,N)[0]\n",
    "\n",
    "    def funkcja_pola_powierzchni(self,a): #16 R^2 =>http://mathworld.wolfram.com/SteinmetzSolid.html\n",
    "        return 16*self.R*(a/(np.sqrt(self.R**2-np.power(a,2))) )\n",
    "\n",
    "    def pole_powierzchni(self,N):\n",
    "        return policzenie_calki(1,[0,self.R],self.funkcja_pola_powierzchni,N)[0]\n",
    "\n",
    "    def stosunek(self,N): #stosunek powinien byc 3/R\n",
    "        return self.pole_powierzchni(N)/self.objetosc(N)"
   ]
  },
  {
   "cell_type": "code",
   "execution_count": 21,
   "metadata": {},
   "outputs": [
    {
     "name": "stdout",
     "output_type": "stream",
     "text": [
      "objetosc: 43.05962925910834\n",
      "pole_powierzchni 65.21564232541921\n",
      "stosunek 1.3374800079295524\n"
     ]
    }
   ],
   "source": [
    "b=bryla_stein2(2)\n",
    "print('objetosc:',b.objetosc(1500))\n",
    "print('pole_powierzchni',b.pole_powierzchni(1500))\n",
    "print('stosunek',b.stosunek(1500))"
   ]
  },
  {
   "cell_type": "code",
   "execution_count": 10,
   "metadata": {},
   "outputs": [],
   "source": [
    "o=[]\n",
    "p=[]\n",
    "s=[]\n",
    "for i in range(0,100):\n",
    "    b=bryla_stein2(2)\n",
    "    p.append(b.pole_powierzchni(1500))\n",
    "    o.append(b.objetosc(1500))"
   ]
  },
  {
   "cell_type": "code",
   "execution_count": 24,
   "metadata": {},
   "outputs": [
    {
     "name": "stdout",
     "output_type": "stream",
     "text": [
      "STOSUNEK WYNOSI: 1.5474883074200998\n"
     ]
    }
   ],
   "source": [
    "o=np.array(o)\n",
    "p=np.array(p)\n",
    "print(\"STOSUNEK WYNOSI:\", np.mean(p)/np.mean(o))\n",
    "s.append(np.mean(p)/np.mean(o))"
   ]
  },
  {
   "cell_type": "code",
   "execution_count": 25,
   "metadata": {},
   "outputs": [],
   "source": [
    "o=[]\n",
    "p=[]\n",
    "for i in range(0,100):\n",
    "    b=bryla_stein2(3)\n",
    "    p.append(b.pole_powierzchni(1500))\n",
    "    o.append(b.objetosc(1500))"
   ]
  },
  {
   "cell_type": "code",
   "execution_count": 26,
   "metadata": {},
   "outputs": [],
   "source": [
    "s.append(np.mean(p)/np.mean(o))"
   ]
  },
  {
   "cell_type": "code",
   "execution_count": 27,
   "metadata": {},
   "outputs": [
    {
     "name": "stderr",
     "output_type": "stream",
     "text": [
      "C:\\Users\\user\\Anaconda3\\lib\\site-packages\\ipykernel_launcher.py:14: RuntimeWarning: invalid value encountered in true_divide\n",
      "  \n"
     ]
    }
   ],
   "source": [
    "s=[]\n",
    "x=[0,1,2,3,4,5,6,7,8,9,10]\n",
    "for j in x:\n",
    "    o=[]\n",
    "    p=[]\n",
    "    for i in range(0,100):\n",
    "        b=bryla_stein2(j)\n",
    "        p.append(b.pole_powierzchni(1500))\n",
    "        o.append(b.objetosc(1500))\n",
    "    o=np.array(o)\n",
    "    p=np.array(p)\n",
    "    s.append(np.mean(p)/np.mean(o))"
   ]
  },
  {
   "cell_type": "code",
   "execution_count": 32,
   "metadata": {},
   "outputs": [
    {
     "data": {
      "text/plain": [
       "Text(0,0.5,'P/V')"
      ]
     },
     "execution_count": 32,
     "metadata": {},
     "output_type": "execute_result"
    },
    {
     "data": {
      "image/png": "[encoded data removed]",
      "text/plain": [
       "<matplotlib.figure.Figure at 0x15e03516b70>"
      ]
     },
     "metadata": {},
     "output_type": "display_data"
    }
   ],
   "source": [
    "plt.plot(x[1:],s[1:])\n",
    "plt.xlabel('R')\n",
    "plt.ylabel('P/V') #P-pole powierzchni, V-objętość"
   ]
  },
  {
   "cell_type": "code",
   "execution_count": null,
   "metadata": {},
   "outputs": [],
   "source": []
  },
  {
   "cell_type": "code",
   "execution_count": null,
   "metadata": {},
   "outputs": [],
   "source": []
  }
 ],
 "metadata": {
  "kernelspec": {
   "display_name": "Python 3",
   "language": "python",
   "name": "python3"
  },
  "language_info": {
   "codemirror_mode": {
    "name": "ipython",
    "version": 3
   },
   "file_extension": ".py",
   "mimetype": "text/x-python",
   "name": "python",
   "nbconvert_exporter": "python",
   "pygments_lexer": "ipython3",
   "version": "3.6.4"
  }
 },
 "nbformat": 4,
 "nbformat_minor": 2
}
