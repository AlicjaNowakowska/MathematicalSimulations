{
 "cells": [
  {
   "cell_type": "code",
   "execution_count": 3,
   "metadata": {},
   "outputs": [],
   "source": [
    "import random as rn\n",
    "import matplotlib.pyplot as plt\n",
    "import matplotlib.lines as mlines\n",
    "import numpy as np\n",
    "import math"
   ]
  },
  {
   "cell_type": "code",
   "execution_count": 4,
   "metadata": {},
   "outputs": [],
   "source": [
    "def policzenie_calki(n,przedzial,funkcja,N): #metoda monte carlo, n-ile wymiarow, przedział-przedział, po ktorym całkujemy\n",
    "\n",
    "        wynik_sredni=[]\n",
    "    \n",
    "        for i in range(0, N): #N-dokładnosc, ile prób\n",
    "\n",
    "            liczby=[] #liczby z ktorych wywołamy funkcje\n",
    "            iloczyn=[] #to czym trzeba pomnożyć\n",
    "\n",
    "            for i in range(0,len(przedzial),2): #idziemy po poszczegolnych przedziałach\n",
    "                #print('i',i)\n",
    "                p=[przedzial[i],przedzial[i+1]] #przedzial po jakim całkujemy dla i-tego wymiaru\n",
    "                u=rn.uniform(p[0],p[1]) #liczba z tego przedziału\n",
    "                liczby.append(u)\n",
    "            \n",
    "            #print('liczby',liczby,'funkcja(liczby)',funkcja(liczby))\n",
    "            wynik_sredni.append(funkcja(liczby))\n",
    "        \n",
    "\n",
    "        wynik_sredni=sum(wynik_sredni)/N\n",
    "\n",
    "        iloczyn=1\n",
    "\n",
    "        for i in range(0,n,2):\n",
    "            iloczyn=iloczyn*(przedzial[i+1]-przedzial[i])\n",
    "\n",
    "        wynik_sredni=wynik_sredni*iloczyn\n",
    "\n",
    "        return wynik_sredni"
   ]
  },
  {
   "cell_type": "code",
   "execution_count": 9,
   "metadata": {},
   "outputs": [],
   "source": [
    "\n",
    "class kula:\n",
    "    \n",
    "    def __init__(self,R):\n",
    "        self.R=R\n",
    "    def funkcja_objetosci(self,x):\n",
    "        return self.R**2-np.power(x,2)\n",
    "        \n",
    "    def objetosc(self,N):  #objetosc metoda monte carlo\n",
    "        return math.pi*policzenie_calki(1,[-self.R,self.R],self.funkcja_objetosci,N)[0]\n",
    "        \n",
    "    \n",
    "    def funkcja_pola_powierzchni(self,a): #funkcja do scałkowania żeby uzyskać p.powierzchni\n",
    "        return 2*math.pi*self.R*self.R*np.sin(a)\n",
    "\n",
    "    def pole_powierzchni(self,N): #pole powierzchni to całka od 0 do pi z 2piR**2sina da -> https://www.youtube.com/watch?v=tKRnUjC26lY\n",
    "    \n",
    "        return policzenie_calki(1,[0,math.pi],self.funkcja_pola_powierzchni,N)[0]\n",
    "\n",
    "    def stosunek(self,N):\n",
    "        return self.pole_powierzchni(N)/self.objetosc(N)\n"
   ]
  },
  {
   "cell_type": "code",
   "execution_count": 13,
   "metadata": {},
   "outputs": [
    {
     "name": "stdout",
     "output_type": "stream",
     "text": [
      "objetosc: 517.2126896154516\n",
      "pole_powierzchni 314.6626166186006\n",
      "stosunek 0.6020904373665457\n"
     ]
    }
   ],
   "source": [
    "#przykład\n",
    "b=kula(5) #kula o promieniu 2\n",
    "#dokladnosc 1500 punktow, powinno wyjść 3/R => u nas 1.5\n",
    "print('objetosc:',b.objetosc(1500))\n",
    "print('pole_powierzchni',b.pole_powierzchni(1500))\n",
    "print('stosunek',b.stosunek(1500))"
   ]
  },
  {
   "cell_type": "code",
   "execution_count": 18,
   "metadata": {},
   "outputs": [
    {
     "name": "stderr",
     "output_type": "stream",
     "text": [
      "C:\\Users\\user\\Anaconda3\\lib\\site-packages\\ipykernel_launcher.py:12: RuntimeWarning: invalid value encountered in double_scalars\n",
      "  if sys.path[0] == '':\n"
     ]
    }
   ],
   "source": [
    "s=[]\n",
    "x=[0,1,2,3,4,5,6,7,8,9,10]\n",
    "for j in x:\n",
    "    o=[]\n",
    "    p=[]\n",
    "    for i in range(0,100):\n",
    "        b=kula(j)\n",
    "        p.append(b.pole_powierzchni(1500))\n",
    "        o.append(b.objetosc(1500))\n",
    "    o=np.array(o)\n",
    "    p=np.array(p)\n",
    "    s.append(np.mean(p)/np.mean(o))"
   ]
  },
  {
   "cell_type": "code",
   "execution_count": 19,
   "metadata": {},
   "outputs": [
    {
     "data": {
      "text/plain": [
       "Text(0,0.5,'P/V')"
      ]
     },
     "execution_count": 19,
     "metadata": {},
     "output_type": "execute_result"
    },
    {
     "data": {
      "image/png": "[encoded data removed]",
      "text/plain": [
       "<matplotlib.figure.Figure at 0x28d337760f0>"
      ]
     },
     "metadata": {},
     "output_type": "display_data"
    }
   ],
   "source": [
    "plt.plot(x[1:],s[1:])\n",
    "plt.xlabel('R')\n",
    "plt.ylabel('P/V') #P-pole powierzchni, V-objętość"
   ]
  },
  {
   "cell_type": "code",
   "execution_count": null,
   "metadata": {},
   "outputs": [],
   "source": []
  }
 ],
 "metadata": {
  "kernelspec": {
   "display_name": "Python 3",
   "language": "python",
   "name": "python3"
  },
  "language_info": {
   "codemirror_mode": {
    "name": "ipython",
    "version": 3
   },
   "file_extension": ".py",
   "mimetype": "text/x-python",
   "name": "python",
   "nbconvert_exporter": "python",
   "pygments_lexer": "ipython3",
   "version": "3.6.4"
  }
 },
 "nbformat": 4,
 "nbformat_minor": 2
}
