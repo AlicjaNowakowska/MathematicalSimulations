{
 "cells": [
  {
   "cell_type": "code",
   "execution_count": 4,
   "metadata": {},
   "outputs": [],
   "source": [
    "import random as rn\n",
    "import matplotlib.pyplot as plt\n",
    "import matplotlib.lines as mlines\n",
    "import numpy as np\n",
    "import math"
   ]
  },
  {
   "cell_type": "code",
   "execution_count": 5,
   "metadata": {},
   "outputs": [],
   "source": [
    "def policzenie_calki(n,przedzial,funkcja,N): #metoda monte carlo, n-ile wymiarow, przedział-przedział, po ktorym całkujemy\n",
    "\n",
    "        wynik_sredni=[]\n",
    "    \n",
    "        for i in range(0, N): #N-dokładnosc, ile prób\n",
    "\n",
    "            liczby=[] #liczby z ktorych wywołamy funkcje\n",
    "            iloczyn=[] #to czym trzeba pomnożyć\n",
    "\n",
    "            for i in range(0,len(przedzial),2): #idziemy po poszczegolnych przedziałach\n",
    "                #print('i',i)\n",
    "                p=[przedzial[i],przedzial[i+1]] #przedzial po jakim całkujemy dla i-tego wymiaru\n",
    "                u=rn.uniform(p[0],p[1]) #liczba z tego przedziału\n",
    "                liczby.append(u)\n",
    "            \n",
    "            #print('liczby',liczby,'funkcja(liczby)',funkcja(liczby))\n",
    "            wynik_sredni.append(funkcja(liczby))\n",
    "        \n",
    "\n",
    "        wynik_sredni=sum(wynik_sredni)/N\n",
    "\n",
    "        iloczyn=1\n",
    "\n",
    "        for i in range(0,n,2):\n",
    "            iloczyn=iloczyn*(przedzial[i+1]-przedzial[i])\n",
    "\n",
    "        wynik_sredni=wynik_sredni*iloczyn\n",
    "\n",
    "        return wynik_sredni"
   ]
  },
  {
   "cell_type": "code",
   "execution_count": 15,
   "metadata": {},
   "outputs": [],
   "source": [
    "class bryla_stein3:\n",
    "    \n",
    "    def __init__(self,R):\n",
    "        self.R=R\n",
    "\n",
    "    def funkcja_objetosci(self,a): #funkcja ktora calkujemy zeby uzyskac objetosc bryly steinmetza\n",
    "        return 6*(np.power((2*(np.sqrt(self.R**2-np.power(a,2)))),2)) \n",
    "\n",
    "    def objetosc(self,N): #math.wolfram world\n",
    "        return 2*math.sqrt(2)*(self.R**3)+policzenie_calki(1,[self.R/math.sqrt(2),self.R],self.funkcja_objetosci,N)[0]\n",
    "\n",
    "    def funkcja_pola_powierzchni(self,a): #jaki jest wzor???\n",
    "        return 48*self.R*np.sin(np.divide(a,self.R))\n",
    "\n",
    "    def pole_powierzchni(self,N):\n",
    "        return policzenie_calki(1,[0,math.pi*self.R*0.25],self.funkcja_pola_powierzchni,N)[0]\n"
   ]
  },
  {
   "cell_type": "code",
   "execution_count": 16,
   "metadata": {},
   "outputs": [
    {
     "name": "stdout",
     "output_type": "stream",
     "text": [
      "objetosc: 37.506606517363906\n",
      "pole_powierzchni 56.568238720871534\n"
     ]
    }
   ],
   "source": [
    "b=bryla_stein3(2)\n",
    "print('objetosc:',b.objetosc(1000))\n",
    "print('pole_powierzchni',b.pole_powierzchni(1000))\n",
    "#print('stosunek',b.stosunek(1000))"
   ]
  },
  {
   "cell_type": "code",
   "execution_count": 17,
   "metadata": {},
   "outputs": [
    {
     "name": "stderr",
     "output_type": "stream",
     "text": [
      "C:\\Users\\user\\Anaconda3\\lib\\site-packages\\ipykernel_launcher.py:13: RuntimeWarning: invalid value encountered in true_divide\n",
      "  del sys.path[0]\n"
     ]
    }
   ],
   "source": [
    "s=[]\n",
    "x=[0,1,2,3,4,5,6,7,8,9,10]\n",
    "for j in x:\n",
    "    o=[]\n",
    "    p=[]\n",
    "    for i in range(0,100):\n",
    "        b=bryla_stein3(j)\n",
    "        p.append(b.pole_powierzchni(1500))\n",
    "        o.append(b.objetosc(1500))\n",
    "    o=np.array(o)\n",
    "    p=np.array(p)\n",
    "    s.append(np.mean(p)/np.mean(o))"
   ]
  },
  {
   "cell_type": "code",
   "execution_count": 19,
   "metadata": {},
   "outputs": [
    {
     "data": {
      "text/plain": [
       "Text(0,0.5,'P/V')"
      ]
     },
     "execution_count": 19,
     "metadata": {},
     "output_type": "execute_result"
    },
    {
     "data": {
      "image/png": "[encoded data removed]",
      "text/plain": [
       "<matplotlib.figure.Figure at 0x2ad22fa4358>"
      ]
     },
     "metadata": {},
     "output_type": "display_data"
    }
   ],
   "source": [
    "plt.plot(x[1:],s[1:])\n",
    "plt.xlabel('R')\n",
    "plt.ylabel('P/V') #P-pole powierzchni, V-objętość"
   ]
  },
  {
   "cell_type": "code",
   "execution_count": null,
   "metadata": {},
   "outputs": [],
   "source": []
  }
 ],
 "metadata": {
  "kernelspec": {
   "display_name": "Python 3",
   "language": "python",
   "name": "python3"
  },
  "language_info": {
   "codemirror_mode": {
    "name": "ipython",
    "version": 3
   },
   "file_extension": ".py",
   "mimetype": "text/x-python",
   "name": "python",
   "nbconvert_exporter": "python",
   "pygments_lexer": "ipython3",
   "version": "3.6.4"
  }
 },
 "nbformat": 4,
 "nbformat_minor": 2
}
